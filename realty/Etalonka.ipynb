{
 "cells": [
  {
   "cell_type": "code",
   "execution_count": 4,
   "metadata": {},
   "outputs": [],
   "source": [
    "import pandas as pd\n",
    "import requests\n",
    "from bs4 import BeautifulSoup \n",
    "import re\n",
    "import numpy as np\n",
    "import requests as r\n",
    "import urllib3\n",
    "urllib3.disable_warnings()"
   ]
  },
  {
   "cell_type": "code",
   "execution_count": 5,
   "metadata": {},
   "outputs": [],
   "source": [
    "URL='https://www.avito.ru/shops/rostov-na-donu/nedvizhimost'\n",
    "req = requests.get(URL) # GET-запрос\n",
    "soup = BeautifulSoup(req.text, 'lxml')\n"
   ]
  },
  {
   "cell_type": "code",
   "execution_count": 75,
   "metadata": {},
   "outputs": [],
   "source": [
    "for link in soup.find_all('a'):\n",
    "        count_pages = link.get('href')\n",
    "        \n",
    "num = re.findall(r'(p=\\d+)', count_pages)\n",
    "\n",
    "last = num[0].replace('p=', '')\n",
    "last = int(last)"
   ]
  },
  {
   "cell_type": "code",
   "execution_count": 260,
   "metadata": {},
   "outputs": [],
   "source": [
    "city = URL.replace('https://www.avito.ru/shops/', '')\n",
    "city = re.findall(r'(\\S+\\W+)', city)\n",
    "city = city[0].replace('/', '')"
   ]
  },
  {
   "cell_type": "code",
   "execution_count": 267,
   "metadata": {},
   "outputs": [],
   "source": [
    "full_link = city+'?page_from=from_shops_list'"
   ]
  },
  {
   "cell_type": "code",
   "execution_count": 268,
   "metadata": {},
   "outputs": [
    {
     "data": {
      "text/plain": [
       "'rostov-na-donu?page_from=from_shops_list'"
      ]
     },
     "execution_count": 268,
     "metadata": {},
     "output_type": "execute_result"
    }
   ],
   "source": [
    "full_link"
   ]
  },
  {
   "cell_type": "code",
   "execution_count": 293,
   "metadata": {},
   "outputs": [],
   "source": [
    "for_title = []\n",
    "for_count = []\n",
    "for_result = []\n",
    "for i in range(1, last+1):\n",
    "    url_link = URL+'?p=' + str(i)\n",
    "    response = requests.get(url_link, verify=False)\n",
    "    soup = BeautifulSoup(response.text, 'lxml')\n",
    "    for_text = r.get(url_link).text\n",
    "    result = re.findall(r'(\\w+\\S{1}\\W+rostov-na-donu+\\W+page_from=from_shops_list)', for_text)\n",
    "    for_result.append(result)\n",
    "    for row in soup.find_all('h3', attrs = {'class': 't_s_h3'}):\n",
    "        for_title.append(row.text)\n",
    "    for row_1 in soup.find_all('div', attrs = {'class': 't_s_items'}):\n",
    "        for_count.append(row_1.text)"
   ]
  },
  {
   "cell_type": "code",
   "execution_count": 406,
   "metadata": {},
   "outputs": [],
   "source": [
    "ser = pd.Series(for_result)"
   ]
  },
  {
   "cell_type": "code",
   "execution_count": 412,
   "metadata": {},
   "outputs": [],
   "source": [
    "etalon = pd.DataFrame()"
   ]
  },
  {
   "cell_type": "code",
   "execution_count": 272,
   "metadata": {},
   "outputs": [],
   "source": [
    "result = pd.DataFrame(data = result, columns = ['link'])\n",
    "result = result.drop_duplicates(subset=['link']).reset_index()"
   ]
  },
  {
   "cell_type": "code",
   "execution_count": 273,
   "metadata": {},
   "outputs": [],
   "source": [
    "links = []\n",
    "for i in result['link']:\n",
    "    id_avito = \"https://www.avito.ru/{}\".format(i)\n",
    "    links.append(id_avito)"
   ]
  },
  {
   "cell_type": "code",
   "execution_count": 415,
   "metadata": {},
   "outputs": [],
   "source": [
    "etalon['title'] = for_title\n",
    "etalon['title'] = etalon['title'].str.replace('\\n\\n ', '')\n",
    "etalon['title'] = etalon['title'].str.replace('\\n', '')\n",
    "etalon['count'] = for_count\n",
    "etalon['count'] = etalon['count'].str.replace('\\n\\n ', '')\n",
    "etalon['count'] = etalon['count'].str.replace('\\n', '')\n",
    "#etalon['links'] = links"
   ]
  },
  {
   "cell_type": "code",
   "execution_count": 416,
   "metadata": {},
   "outputs": [
    {
     "data": {
      "text/html": [
       "<div>\n",
       "<style scoped>\n",
       "    .dataframe tbody tr th:only-of-type {\n",
       "        vertical-align: middle;\n",
       "    }\n",
       "\n",
       "    .dataframe tbody tr th {\n",
       "        vertical-align: top;\n",
       "    }\n",
       "\n",
       "    .dataframe thead th {\n",
       "        text-align: right;\n",
       "    }\n",
       "</style>\n",
       "<table border=\"1\" class=\"dataframe\">\n",
       "  <thead>\n",
       "    <tr style=\"text-align: right;\">\n",
       "      <th></th>\n",
       "      <th>title</th>\n",
       "      <th>count</th>\n",
       "    </tr>\n",
       "  </thead>\n",
       "  <tbody>\n",
       "    <tr>\n",
       "      <th>0</th>\n",
       "      <td>Недвижимость Ростелеком Непрофильные активы ...</td>\n",
       "      <td>1 845 объявлений</td>\n",
       "    </tr>\n",
       "    <tr>\n",
       "      <th>1</th>\n",
       "      <td>АН \"Dомиан\" «Домиан» уникальная компания с у...</td>\n",
       "      <td>6 370 объявлений</td>\n",
       "    </tr>\n",
       "    <tr>\n",
       "      <th>2</th>\n",
       "      <td>Активы Сбербанка Продажа имущества от Сбера</td>\n",
       "      <td>1 352 объявления</td>\n",
       "    </tr>\n",
       "    <tr>\n",
       "      <th>3</th>\n",
       "      <td>Банк ВТБ (ПАО) Продажа непрофильных активов,...</td>\n",
       "      <td>916 объявлений</td>\n",
       "    </tr>\n",
       "    <tr>\n",
       "      <th>4</th>\n",
       "      <td>Агентство недвижимости Форсаж Большой выбор ...</td>\n",
       "      <td>587 объявлений</td>\n",
       "    </tr>\n",
       "    <tr>\n",
       "      <th>...</th>\n",
       "      <td>...</td>\n",
       "      <td>...</td>\n",
       "    </tr>\n",
       "    <tr>\n",
       "      <th>197</th>\n",
       "      <td>АН Европа+ Любые операции с недвижимостью в ...</td>\n",
       "      <td>20 объявлений</td>\n",
       "    </tr>\n",
       "    <tr>\n",
       "      <th>198</th>\n",
       "      <td>Агенство Недвижимости</td>\n",
       "      <td>26 объявлений</td>\n",
       "    </tr>\n",
       "    <tr>\n",
       "      <th>199</th>\n",
       "      <td>Апартаменты \"Наталья\" В условиях кризиса мы ...</td>\n",
       "      <td>3 объявления</td>\n",
       "    </tr>\n",
       "    <tr>\n",
       "      <th>200</th>\n",
       "      <td>ЖК Военвед-парк Застройщик  ЖК \"Военвед-парк\"</td>\n",
       "      <td>4 объявления</td>\n",
       "    </tr>\n",
       "    <tr>\n",
       "      <th>201</th>\n",
       "      <td>Arrow Capital Реализация девелоперских проек...</td>\n",
       "      <td>3 объявления</td>\n",
       "    </tr>\n",
       "  </tbody>\n",
       "</table>\n",
       "<p>202 rows × 2 columns</p>\n",
       "</div>"
      ],
      "text/plain": [
       "                                                 title                count\n",
       "0      Недвижимость Ростелеком Непрофильные активы ...   1 845 объявлений  \n",
       "1      АН \"Dомиан\" «Домиан» уникальная компания с у...   6 370 объявлений  \n",
       "2        Активы Сбербанка Продажа имущества от Сбера     1 352 объявления  \n",
       "3      Банк ВТБ (ПАО) Продажа непрофильных активов,...     916 объявлений  \n",
       "4      Агентство недвижимости Форсаж Большой выбор ...     587 объявлений  \n",
       "..                                                 ...                  ...\n",
       "197    АН Европа+ Любые операции с недвижимостью в ...      20 объявлений  \n",
       "198                            Агенство Недвижимости        26 объявлений  \n",
       "199    Апартаменты \"Наталья\" В условиях кризиса мы ...       3 объявления  \n",
       "200    ЖК Военвед-парк Застройщик  ЖК \"Военвед-парк\"         4 объявления  \n",
       "201    Arrow Capital Реализация девелоперских проек...       3 объявления  \n",
       "\n",
       "[202 rows x 2 columns]"
      ]
     },
     "execution_count": 416,
     "metadata": {},
     "output_type": "execute_result"
    }
   ],
   "source": [
    "etalon"
   ]
  },
  {
   "cell_type": "code",
   "execution_count": 292,
   "metadata": {},
   "outputs": [],
   "source": [
    "for_text = r.get(url_link).text\n",
    "result = re.findall(r'(\\w+\\S{1}\\W+rostov-na-donu+\\W+page_from=from_shops_list)', for_text)"
   ]
  },
  {
   "cell_type": "code",
   "execution_count": null,
   "metadata": {},
   "outputs": [],
   "source": []
  }
 ],
 "metadata": {
  "kernelspec": {
   "display_name": "Python 3",
   "language": "python",
   "name": "python3"
  },
  "language_info": {
   "codemirror_mode": {
    "name": "ipython",
    "version": 3
   },
   "file_extension": ".py",
   "mimetype": "text/x-python",
   "name": "python",
   "nbconvert_exporter": "python",
   "pygments_lexer": "ipython3",
   "version": "3.8.3"
  }
 },
 "nbformat": 4,
 "nbformat_minor": 4
}
