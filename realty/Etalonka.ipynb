{
 "cells": [
  {
   "cell_type": "code",
   "execution_count": 1,
   "metadata": {},
   "outputs": [],
   "source": [
    "import pandas as pd\n",
    "import requests\n",
    "from bs4 import BeautifulSoup \n",
    "import re\n",
    "import numpy as np\n",
    "import requests as r\n",
    "import urllib3\n",
    "urllib3.disable_warnings()"
   ]
  },
  {
   "cell_type": "code",
   "execution_count": 2,
   "metadata": {},
   "outputs": [],
   "source": [
    "URL='https://www.avito.ru/shops/rostov-na-donu/nedvizhimost'\n",
    "req = requests.get(URL) # GET-запрос\n",
    "soup = BeautifulSoup(req.text, 'lxml')"
   ]
  },
  {
   "cell_type": "markdown",
   "metadata": {},
   "source": [
    "Получаем все ссылки на странице и количество страниц с предложениями"
   ]
  },
  {
   "cell_type": "code",
   "execution_count": 3,
   "metadata": {},
   "outputs": [],
   "source": [
    "for link in soup.find_all('a'):\n",
    "        count_pages = link.get('href')\n",
    "        \n",
    "num = re.findall(r'(p=\\d+)', count_pages)\n",
    "\n",
    "last = num[0].replace('p=', '')\n",
    "last = int(last)"
   ]
  },
  {
   "cell_type": "markdown",
   "metadata": {},
   "source": [
    "Создаем цикл, где отдельно достаем наименованеи магазина, количество офферов и ссылки на магазин."
   ]
  },
  {
   "cell_type": "code",
   "execution_count": 4,
   "metadata": {},
   "outputs": [],
   "source": [
    "for_title = []\n",
    "for_count = []\n",
    "for_result = []\n",
    "for i in range(1, last+1):\n",
    "    url_link = URL+'?p=' + str(i)\n",
    "    response = requests.get(url_link, verify=False)\n",
    "    soup = BeautifulSoup(response.text, 'lxml')\n",
    "    for_text = r.get(url_link).text\n",
    "    result = []\n",
    "    for link in soup.find_all('a'):\n",
    "        jam = (link.get('href'))\n",
    "        if jam.endswith('page_from=from_shops_list'):\n",
    "            for_result.append(jam)\n",
    "        else: \n",
    "            t = 1 \n",
    "    for row in soup.find_all('h3', attrs = {'class': 't_s_h3'}):\n",
    "        for_title.append(row.text)\n",
    "    for row_1 in soup.find_all('div', attrs = {'class': 't_s_items'}):\n",
    "        for_count.append(row_1.text)"
   ]
  },
  {
   "cell_type": "markdown",
   "metadata": {},
   "source": [
    "Избавляемся от дублей ссылок"
   ]
  },
  {
   "cell_type": "code",
   "execution_count": 32,
   "metadata": {},
   "outputs": [],
   "source": [
    "result = pd.DataFrame(data = for_result, columns = ['link'])\n",
    "unique_link = result.drop_duplicates(subset=['link']).reset_index()"
   ]
  },
  {
   "cell_type": "markdown",
   "metadata": {},
   "source": [
    "Получаем послные кликабельные ссылки на магазин"
   ]
  },
  {
   "cell_type": "code",
   "execution_count": 33,
   "metadata": {},
   "outputs": [],
   "source": [
    "links = []\n",
    "for i in unique_link['link']:\n",
    "    id_avito = \"https://www.avito.ru{}\".format(i)\n",
    "    links.append(id_avito)"
   ]
  },
  {
   "cell_type": "markdown",
   "metadata": {},
   "source": [
    "Создаем датафрейм, в котором у нас будут формироваться искомые данные"
   ]
  },
  {
   "cell_type": "code",
   "execution_count": 34,
   "metadata": {},
   "outputs": [],
   "source": [
    "etalon = pd.DataFrame()"
   ]
  },
  {
   "cell_type": "markdown",
   "metadata": {},
   "source": [
    "Форматируем столбцы Датафрейма с конечным результатом "
   ]
  },
  {
   "cell_type": "code",
   "execution_count": 35,
   "metadata": {},
   "outputs": [],
   "source": [
    "etalon['title'] = for_title\n",
    "etalon['title'] = etalon['title'].str.replace('\\n\\n ', '')\n",
    "etalon['title'] = etalon['title'].str.replace('\\n', '')\n",
    "etalon['count'] = for_count\n",
    "etalon['count'] = etalon['count'].str.replace('\\n\\n ', '')\n",
    "etalon['count'] = etalon['count'].str.replace('\\n', '')\n",
    "etalon['links'] = links"
   ]
  },
  {
   "cell_type": "code",
   "execution_count": 36,
   "metadata": {},
   "outputs": [
    {
     "data": {
      "text/html": [
       "<div>\n",
       "<style scoped>\n",
       "    .dataframe tbody tr th:only-of-type {\n",
       "        vertical-align: middle;\n",
       "    }\n",
       "\n",
       "    .dataframe tbody tr th {\n",
       "        vertical-align: top;\n",
       "    }\n",
       "\n",
       "    .dataframe thead th {\n",
       "        text-align: right;\n",
       "    }\n",
       "</style>\n",
       "<table border=\"1\" class=\"dataframe\">\n",
       "  <thead>\n",
       "    <tr style=\"text-align: right;\">\n",
       "      <th></th>\n",
       "      <th>title</th>\n",
       "      <th>count</th>\n",
       "      <th>links</th>\n",
       "    </tr>\n",
       "  </thead>\n",
       "  <tbody>\n",
       "    <tr>\n",
       "      <th>0</th>\n",
       "      <td>Недвижимость Ростелеком Непрофильные активы ...</td>\n",
       "      <td>1 835 объявлений</td>\n",
       "      <td>https://www.avito.ru/realty_rostelecom/rostov-...</td>\n",
       "    </tr>\n",
       "    <tr>\n",
       "      <th>1</th>\n",
       "      <td>АН \"Dомиан\" «Домиан» уникальная компания с у...</td>\n",
       "      <td>6 251 объявление</td>\n",
       "      <td>https://www.avito.ru/i6870161/rostov-na-donu?p...</td>\n",
       "    </tr>\n",
       "    <tr>\n",
       "      <th>2</th>\n",
       "      <td>Активы Сбербанка Продажа имущества от Сбера</td>\n",
       "      <td>1 499 объявлений</td>\n",
       "      <td>https://www.avito.ru/sberbank_a/rostov-na-donu...</td>\n",
       "    </tr>\n",
       "    <tr>\n",
       "      <th>3</th>\n",
       "      <td>Банк ВТБ (ПАО) Продажа непрофильных активов,...</td>\n",
       "      <td>933 объявления</td>\n",
       "      <td>https://www.avito.ru/i110786703/rostov-na-donu...</td>\n",
       "    </tr>\n",
       "    <tr>\n",
       "      <th>4</th>\n",
       "      <td>Агентство недвижимости Форсаж Большой выбор ...</td>\n",
       "      <td>607 объявлений</td>\n",
       "      <td>https://www.avito.ru/forsag/rostov-na-donu?pag...</td>\n",
       "    </tr>\n",
       "    <tr>\n",
       "      <th>...</th>\n",
       "      <td>...</td>\n",
       "      <td>...</td>\n",
       "      <td>...</td>\n",
       "    </tr>\n",
       "    <tr>\n",
       "      <th>192</th>\n",
       "      <td>Апартаменты \"Наталья\" В условиях кризиса мы ...</td>\n",
       "      <td>3 объявления</td>\n",
       "      <td>https://www.avito.ru/i189363593/rostov-na-donu...</td>\n",
       "    </tr>\n",
       "    <tr>\n",
       "      <th>193</th>\n",
       "      <td>ЖК Военвед-парк Застройщик  ЖК \"Военвед-парк\"</td>\n",
       "      <td>5 объявлений</td>\n",
       "      <td>https://www.avito.ru/i173399779/rostov-na-donu...</td>\n",
       "    </tr>\n",
       "    <tr>\n",
       "      <th>194</th>\n",
       "      <td>Объединение Застройщиков Официальная продажа...</td>\n",
       "      <td>5 объявлений</td>\n",
       "      <td>https://www.avito.ru/i80056279/rostov-na-donu?...</td>\n",
       "    </tr>\n",
       "    <tr>\n",
       "      <th>195</th>\n",
       "      <td>АО \"АЛЬФА-БАНК\" Реализация недвижимого имуще...</td>\n",
       "      <td>9 объявлений</td>\n",
       "      <td>https://www.avito.ru/i186241513/rostov-na-donu...</td>\n",
       "    </tr>\n",
       "    <tr>\n",
       "      <th>196</th>\n",
       "      <td>Arrow Capital Реализация девелоперских проек...</td>\n",
       "      <td>3 объявления</td>\n",
       "      <td>https://www.avito.ru/i186650625/rostov-na-donu...</td>\n",
       "    </tr>\n",
       "  </tbody>\n",
       "</table>\n",
       "<p>197 rows × 3 columns</p>\n",
       "</div>"
      ],
      "text/plain": [
       "                                                 title                count  \\\n",
       "0      Недвижимость Ростелеком Непрофильные активы ...   1 835 объявлений     \n",
       "1      АН \"Dомиан\" «Домиан» уникальная компания с у...   6 251 объявление     \n",
       "2        Активы Сбербанка Продажа имущества от Сбера     1 499 объявлений     \n",
       "3      Банк ВТБ (ПАО) Продажа непрофильных активов,...     933 объявления     \n",
       "4      Агентство недвижимости Форсаж Большой выбор ...     607 объявлений     \n",
       "..                                                 ...                  ...   \n",
       "192    Апартаменты \"Наталья\" В условиях кризиса мы ...       3 объявления     \n",
       "193    ЖК Военвед-парк Застройщик  ЖК \"Военвед-парк\"         5 объявлений     \n",
       "194    Объединение Застройщиков Официальная продажа...       5 объявлений     \n",
       "195    АО \"АЛЬФА-БАНК\" Реализация недвижимого имуще...       9 объявлений     \n",
       "196    Arrow Capital Реализация девелоперских проек...       3 объявления     \n",
       "\n",
       "                                                 links  \n",
       "0    https://www.avito.ru/realty_rostelecom/rostov-...  \n",
       "1    https://www.avito.ru/i6870161/rostov-na-donu?p...  \n",
       "2    https://www.avito.ru/sberbank_a/rostov-na-donu...  \n",
       "3    https://www.avito.ru/i110786703/rostov-na-donu...  \n",
       "4    https://www.avito.ru/forsag/rostov-na-donu?pag...  \n",
       "..                                                 ...  \n",
       "192  https://www.avito.ru/i189363593/rostov-na-donu...  \n",
       "193  https://www.avito.ru/i173399779/rostov-na-donu...  \n",
       "194  https://www.avito.ru/i80056279/rostov-na-donu?...  \n",
       "195  https://www.avito.ru/i186241513/rostov-na-donu...  \n",
       "196  https://www.avito.ru/i186650625/rostov-na-donu...  \n",
       "\n",
       "[197 rows x 3 columns]"
      ]
     },
     "execution_count": 36,
     "metadata": {},
     "output_type": "execute_result"
    }
   ],
   "source": [
    "etalon"
   ]
  },
  {
   "cell_type": "code",
   "execution_count": 37,
   "metadata": {},
   "outputs": [],
   "source": [
    "etalon.to_excel(\"parts_etalons.xlsx\")"
   ]
  }
 ],
 "metadata": {
  "kernelspec": {
   "display_name": "Python 3",
   "language": "python",
   "name": "python3"
  },
  "language_info": {
   "codemirror_mode": {
    "name": "ipython",
    "version": 3
   },
   "file_extension": ".py",
   "mimetype": "text/x-python",
   "name": "python",
   "nbconvert_exporter": "python",
   "pygments_lexer": "ipython3",
   "version": "3.8.3"
  }
 },
 "nbformat": 4,
 "nbformat_minor": 4
}
