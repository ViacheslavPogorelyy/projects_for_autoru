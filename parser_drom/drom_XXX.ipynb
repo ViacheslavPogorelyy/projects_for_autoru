{
 "cells": [
  {
   "cell_type": "code",
   "execution_count": 4,
   "metadata": {},
   "outputs": [],
   "source": [
    "import pandas as pd\n",
    "import requests\n",
    "from bs4 import BeautifulSoup \n",
    "import re\n",
    "import requests as r\n",
    "import urllib3\n",
    "import urllib.request\n",
    "urllib3.disable_warnings()\n",
    "from urllib.request import urlopen\n",
    "import json"
   ]
  },
  {
   "cell_type": "code",
   "execution_count": 5,
   "metadata": {},
   "outputs": [],
   "source": [
    "URL='https://moscow.drom.ru/honda/civic/42342634.html'\n",
    "req = requests.get(URL) # GET-запрос\n",
    "soup = BeautifulSoup(req.text, 'lxml')"
   ]
  },
  {
   "cell_type": "code",
   "execution_count": 6,
   "metadata": {},
   "outputs": [],
   "source": [
    "links = [] # Список, в котором хранятся ссылки на другие объявления\n",
    "for row in soup.find_all('a', attrs = {'class':'css-ioq5yh e1wvjnck0'}, href=True):\n",
    "    links.append(row)"
   ]
  },
  {
   "cell_type": "code",
   "execution_count": 7,
   "metadata": {},
   "outputs": [],
   "source": [
    "test = pd.Series(links)"
   ]
  },
  {
   "cell_type": "code",
   "execution_count": 8,
   "metadata": {},
   "outputs": [],
   "source": [
    "shop = test[4].get('href') #В данной таблице настоящая ссылка на продавца всегда находится на 4-й позиции."
   ]
  },
  {
   "cell_type": "code",
   "execution_count": 9,
   "metadata": {},
   "outputs": [
    {
     "data": {
      "text/plain": [
       "'https://auto.drom.ru/used-avtomir-dmytrivka/'"
      ]
     },
     "execution_count": 9,
     "metadata": {},
     "output_type": "execute_result"
    }
   ],
   "source": [
    "shop"
   ]
  },
  {
   "cell_type": "code",
   "execution_count": 10,
   "metadata": {},
   "outputs": [],
   "source": [
    "URL_SHOP = shop\n",
    "req_shop = requests.get(URL_SHOP) # GET-запрос\n",
    "soup_shop = BeautifulSoup(req_shop.text, 'lxml')"
   ]
  },
  {
   "cell_type": "code",
   "execution_count": 11,
   "metadata": {},
   "outputs": [],
   "source": [
    "offers = pd.DataFrame()"
   ]
  },
  {
   "cell_type": "code",
   "execution_count": 12,
   "metadata": {},
   "outputs": [],
   "source": [
    "cars = [] # Список, в котором хранятся другие офферы\n",
    "for row in soup_shop.find_all('div', attrs = {'class':'css-19e84ej e1vivdbi0'}):\n",
    "    cars.append(row.text)"
   ]
  },
  {
   "cell_type": "code",
   "execution_count": 13,
   "metadata": {},
   "outputs": [],
   "source": [
    "price = [] # Список, в котором хранятся названия запчастей\n",
    "for row in soup_shop.find_all('span', attrs = {'class':'css-jnatj e162wx9x0'}):\n",
    "    price.append(row.text)"
   ]
  },
  {
   "cell_type": "code",
   "execution_count": 14,
   "metadata": {},
   "outputs": [],
   "source": [
    "city = [] # Список, в котором хранятся названия запчастей\n",
    "for row in soup_shop.find_all('span', attrs = {'class':'css-17qid0e e162wx9x0'}):\n",
    "    city.append(row.text)"
   ]
  },
  {
   "cell_type": "code",
   "execution_count": 15,
   "metadata": {},
   "outputs": [],
   "source": [
    "ssylki = [] # Список, в котором хранятся другие офферы\n",
    "for row in soup_shop.find_all('a', attrs = {'class':'css-ruo0cm ewrty960'}, href=True):\n",
    "    ssylki.append(row)"
   ]
  },
  {
   "cell_type": "code",
   "execution_count": 16,
   "metadata": {},
   "outputs": [],
   "source": [
    "test2 = pd.Series(ssylki)"
   ]
  },
  {
   "cell_type": "code",
   "execution_count": 17,
   "metadata": {},
   "outputs": [],
   "source": [
    "baza = []\n",
    "for i in range(len(test2)):\n",
    "    new = test2[i].get('href')\n",
    "    baza.append(new)"
   ]
  },
  {
   "cell_type": "code",
   "execution_count": 18,
   "metadata": {},
   "outputs": [],
   "source": [
    "offers['cars'] = cars\n",
    "offers['price'] = price\n",
    "offers['price'] = offers['price'].str.replace('\\xa0₽', '')\n",
    "offers['baza'] = baza\n",
    "#offers['price'] = city\n",
    "pd.set_option('display.max_colwidth', 1)\n",
    "city = city[::2]\n",
    "offers['city'] = city\n"
   ]
  },
  {
   "cell_type": "code",
   "execution_count": 19,
   "metadata": {},
   "outputs": [
    {
     "data": {
      "text/html": [
       "<div>\n",
       "<style scoped>\n",
       "    .dataframe tbody tr th:only-of-type {\n",
       "        vertical-align: middle;\n",
       "    }\n",
       "\n",
       "    .dataframe tbody tr th {\n",
       "        vertical-align: top;\n",
       "    }\n",
       "\n",
       "    .dataframe thead th {\n",
       "        text-align: right;\n",
       "    }\n",
       "</style>\n",
       "<table border=\"1\" class=\"dataframe\">\n",
       "  <thead>\n",
       "    <tr style=\"text-align: right;\">\n",
       "      <th></th>\n",
       "      <th>cars</th>\n",
       "      <th>price</th>\n",
       "      <th>baza</th>\n",
       "      <th>city</th>\n",
       "    </tr>\n",
       "  </thead>\n",
       "  <tbody>\n",
       "    <tr>\n",
       "      <th>0</th>\n",
       "      <td>Hyundai Solaris, 2012</td>\n",
       "      <td>620 000</td>\n",
       "      <td>https://moscow.drom.ru/hyundai/solaris/42427325.html</td>\n",
       "      <td>Москва</td>\n",
       "    </tr>\n",
       "    <tr>\n",
       "      <th>1</th>\n",
       "      <td>Kia Ceed, 2016</td>\n",
       "      <td>1 070 000</td>\n",
       "      <td>https://moscow.drom.ru/kia/cee~d/42427324.html</td>\n",
       "      <td>Москва</td>\n",
       "    </tr>\n",
       "    <tr>\n",
       "      <th>2</th>\n",
       "      <td>Volkswagen Polo, 2018</td>\n",
       "      <td>850 000</td>\n",
       "      <td>https://moscow.drom.ru/volkswagen/polo/42417464.html</td>\n",
       "      <td>Москва</td>\n",
       "    </tr>\n",
       "    <tr>\n",
       "      <th>3</th>\n",
       "      <td>Mitsubishi Pajero Sport, 2015</td>\n",
       "      <td>1 940 000</td>\n",
       "      <td>https://moscow.drom.ru/mitsubishi/pajero_sport/42417463.html</td>\n",
       "      <td>Москва</td>\n",
       "    </tr>\n",
       "    <tr>\n",
       "      <th>4</th>\n",
       "      <td>Nissan X-Trail, 2018</td>\n",
       "      <td>2 082 000</td>\n",
       "      <td>https://moscow.drom.ru/nissan/x-trail/42417459.html</td>\n",
       "      <td>Москва</td>\n",
       "    </tr>\n",
       "    <tr>\n",
       "      <th>5</th>\n",
       "      <td>Hyundai Solaris, 2016</td>\n",
       "      <td>727 000</td>\n",
       "      <td>https://moscow.drom.ru/hyundai/solaris/42417457.html</td>\n",
       "      <td>Москва</td>\n",
       "    </tr>\n",
       "    <tr>\n",
       "      <th>6</th>\n",
       "      <td>Ford Focus, 2007</td>\n",
       "      <td>260 000</td>\n",
       "      <td>https://moscow.drom.ru/ford/focus/42417456.html</td>\n",
       "      <td>Москва</td>\n",
       "    </tr>\n",
       "    <tr>\n",
       "      <th>7</th>\n",
       "      <td>Citroen Berlingo, 2013</td>\n",
       "      <td>580 000</td>\n",
       "      <td>https://moscow.drom.ru/citroen/berlingo/42417455.html</td>\n",
       "      <td>Москва</td>\n",
       "    </tr>\n",
       "    <tr>\n",
       "      <th>8</th>\n",
       "      <td>Daewoo Nexia, 2012</td>\n",
       "      <td>107 041</td>\n",
       "      <td>https://moscow.drom.ru/daewoo/nexia/41574006.html</td>\n",
       "      <td>Москва</td>\n",
       "    </tr>\n",
       "    <tr>\n",
       "      <th>9</th>\n",
       "      <td>Mitsubishi Pajero Sport, 2018</td>\n",
       "      <td>3 066 000</td>\n",
       "      <td>https://moscow.drom.ru/mitsubishi/pajero_sport/42416316.html</td>\n",
       "      <td>Москва</td>\n",
       "    </tr>\n",
       "    <tr>\n",
       "      <th>10</th>\n",
       "      <td>Hyundai i40, 2013</td>\n",
       "      <td>1 100 000</td>\n",
       "      <td>https://moscow.drom.ru/hyundai/i40/42416315.html</td>\n",
       "      <td>Москва</td>\n",
       "    </tr>\n",
       "    <tr>\n",
       "      <th>11</th>\n",
       "      <td>Nissan Teana, 2010</td>\n",
       "      <td>640 000</td>\n",
       "      <td>https://moscow.drom.ru/nissan/teana/42416313.html</td>\n",
       "      <td>Москва</td>\n",
       "    </tr>\n",
       "    <tr>\n",
       "      <th>12</th>\n",
       "      <td>Mazda Mazda3, 2008</td>\n",
       "      <td>475 000</td>\n",
       "      <td>https://moscow.drom.ru/mazda/mazda3/42416311.html</td>\n",
       "      <td>Москва</td>\n",
       "    </tr>\n",
       "    <tr>\n",
       "      <th>13</th>\n",
       "      <td>Nissan Almera Classic, 2007</td>\n",
       "      <td>365 000</td>\n",
       "      <td>https://moscow.drom.ru/nissan/almera_classic/42416310.html</td>\n",
       "      <td>Москва</td>\n",
       "    </tr>\n",
       "    <tr>\n",
       "      <th>14</th>\n",
       "      <td>Great Wall Hover H5, 2012</td>\n",
       "      <td>560 000</td>\n",
       "      <td>https://moscow.drom.ru/great_wall/hover_h5/42416309.html</td>\n",
       "      <td>Москва</td>\n",
       "    </tr>\n",
       "    <tr>\n",
       "      <th>15</th>\n",
       "      <td>Hyundai Creta, 2017</td>\n",
       "      <td>1 020 000</td>\n",
       "      <td>https://moscow.drom.ru/hyundai/creta/42416308.html</td>\n",
       "      <td>Москва</td>\n",
       "    </tr>\n",
       "    <tr>\n",
       "      <th>16</th>\n",
       "      <td>Toyota Land Cruiser Prado, 2006</td>\n",
       "      <td>1 290 000</td>\n",
       "      <td>https://moscow.drom.ru/toyota/land_cruiser_prado/42396813.html</td>\n",
       "      <td>Москва</td>\n",
       "    </tr>\n",
       "    <tr>\n",
       "      <th>17</th>\n",
       "      <td>Ford Focus, 2009</td>\n",
       "      <td>350 000</td>\n",
       "      <td>https://moscow.drom.ru/ford/focus/42396811.html</td>\n",
       "      <td>Москва</td>\n",
       "    </tr>\n",
       "    <tr>\n",
       "      <th>18</th>\n",
       "      <td>Mazda Mazda3, 2018</td>\n",
       "      <td>1 509 990</td>\n",
       "      <td>https://moscow.drom.ru/mazda/mazda3/42396808.html</td>\n",
       "      <td>Москва</td>\n",
       "    </tr>\n",
       "    <tr>\n",
       "      <th>19</th>\n",
       "      <td>Skoda Fabia, 2004</td>\n",
       "      <td>230 000</td>\n",
       "      <td>https://moscow.drom.ru/skoda/fabia/41986096.html</td>\n",
       "      <td>Москва</td>\n",
       "    </tr>\n",
       "  </tbody>\n",
       "</table>\n",
       "</div>"
      ],
      "text/plain": [
       "                               cars      price  \\\n",
       "0   Hyundai Solaris, 2012            620 000     \n",
       "1   Kia Ceed, 2016                   1 070 000   \n",
       "2   Volkswagen Polo, 2018            850 000     \n",
       "3   Mitsubishi Pajero Sport, 2015    1 940 000   \n",
       "4   Nissan X-Trail, 2018             2 082 000   \n",
       "5   Hyundai Solaris, 2016            727 000     \n",
       "6   Ford Focus, 2007                 260 000     \n",
       "7   Citroen Berlingo, 2013           580 000     \n",
       "8   Daewoo Nexia, 2012               107 041     \n",
       "9   Mitsubishi Pajero Sport, 2018    3 066 000   \n",
       "10  Hyundai i40, 2013                1 100 000   \n",
       "11  Nissan Teana, 2010               640 000     \n",
       "12  Mazda Mazda3, 2008               475 000     \n",
       "13  Nissan Almera Classic, 2007      365 000     \n",
       "14  Great Wall Hover H5, 2012        560 000     \n",
       "15  Hyundai Creta, 2017              1 020 000   \n",
       "16  Toyota Land Cruiser Prado, 2006  1 290 000   \n",
       "17  Ford Focus, 2009                 350 000     \n",
       "18  Mazda Mazda3, 2018               1 509 990   \n",
       "19  Skoda Fabia, 2004                230 000     \n",
       "\n",
       "                                                              baza    city  \n",
       "0   https://moscow.drom.ru/hyundai/solaris/42427325.html            Москва  \n",
       "1   https://moscow.drom.ru/kia/cee~d/42427324.html                  Москва  \n",
       "2   https://moscow.drom.ru/volkswagen/polo/42417464.html            Москва  \n",
       "3   https://moscow.drom.ru/mitsubishi/pajero_sport/42417463.html    Москва  \n",
       "4   https://moscow.drom.ru/nissan/x-trail/42417459.html             Москва  \n",
       "5   https://moscow.drom.ru/hyundai/solaris/42417457.html            Москва  \n",
       "6   https://moscow.drom.ru/ford/focus/42417456.html                 Москва  \n",
       "7   https://moscow.drom.ru/citroen/berlingo/42417455.html           Москва  \n",
       "8   https://moscow.drom.ru/daewoo/nexia/41574006.html               Москва  \n",
       "9   https://moscow.drom.ru/mitsubishi/pajero_sport/42416316.html    Москва  \n",
       "10  https://moscow.drom.ru/hyundai/i40/42416315.html                Москва  \n",
       "11  https://moscow.drom.ru/nissan/teana/42416313.html               Москва  \n",
       "12  https://moscow.drom.ru/mazda/mazda3/42416311.html               Москва  \n",
       "13  https://moscow.drom.ru/nissan/almera_classic/42416310.html      Москва  \n",
       "14  https://moscow.drom.ru/great_wall/hover_h5/42416309.html        Москва  \n",
       "15  https://moscow.drom.ru/hyundai/creta/42416308.html              Москва  \n",
       "16  https://moscow.drom.ru/toyota/land_cruiser_prado/42396813.html  Москва  \n",
       "17  https://moscow.drom.ru/ford/focus/42396811.html                 Москва  \n",
       "18  https://moscow.drom.ru/mazda/mazda3/42396808.html               Москва  \n",
       "19  https://moscow.drom.ru/skoda/fabia/41986096.html                Москва  "
      ]
     },
     "execution_count": 19,
     "metadata": {},
     "output_type": "execute_result"
    }
   ],
   "source": [
    "offers"
   ]
  },
  {
   "cell_type": "code",
   "execution_count": 20,
   "metadata": {},
   "outputs": [],
   "source": [
    "url_offer='https://perekupi.com/v1.0/getotherbulls?app_id=e1&bull_id=42272844&ring=e90c243oPyzzzqf1eKlukhlyN%2FyQw0a4&timestamp=1620594250404&uid=34238845:a17644a8665a9a838d4081cec96fee78&secret=6a4095a3b87a7d868e6dc39f8efdbe0f9c59f9fb85fa849143f7a8ee328bcb5a'\n",
    "req_offer = requests.get(url_offer) # GET-запрос"
   ]
  },
  {
   "cell_type": "code",
   "execution_count": 21,
   "metadata": {},
   "outputs": [],
   "source": [
    "query = json.loads(req_offer.text)"
   ]
  },
  {
   "cell_type": "code",
   "execution_count": 22,
   "metadata": {},
   "outputs": [
    {
     "data": {
      "text/plain": [
       "{'success': True,\n",
       " 'time': 0.029,\n",
       " 'data': {'is_perekup': False,\n",
       "  'bulls': [{'date': '22.02.2021',\n",
       "    'firm_name': 'Ford',\n",
       "    'model_name': 'Focus',\n",
       "    'year': 2009,\n",
       "    'bull_id': 41407443,\n",
       "    'price': 335000,\n",
       "    'city_name': 'Азов',\n",
       "    'html': '<div class=\"b-fieldset__line\">22.02.2021 <a href=\"https://azov.drom.ru/ford/focus/41407443.html\" class=\"b-link\">Ford Focus 2009</a>, 335000 руб., Азов</div>'}]},\n",
       " 'version': '1.1'}"
      ]
     },
     "execution_count": 22,
     "metadata": {},
     "output_type": "execute_result"
    }
   ],
   "source": [
    "query"
   ]
  },
  {
   "cell_type": "markdown",
   "metadata": {},
   "source": [
    "e0b82bab64dcba4e647ad96cdb507522d2b7165bb22fe4ccb941ad577394109b 27\n",
    "\n",
    "8b9b47dddcd696cf2630a028eba55011259e1699e315b2e031852893b4cbc037 19\n",
    "\n",
    "6a4095a3b87a7d868e6dc39f8efdbe0f9c59f9fb85fa849143f7a8ee328bcb5a 29\n",
    "\n",
    "https://perekupi.com/v1.0/getotherbulls?app_id=e1&bull_id=42272844&ring=e90c243oPyzzzqf1eKlukhlyN%2FyQw0a4&timestamp=1620666734590&uid=34238845:a17644a8665a9a838d4081cec96fee78&secret=cbad39fc86b407d642c1a0c4144e374116a8280e99a10c656c0f530d40fab666\n",
    "\n",
    "https://perekupi.com/v1.0/getotherbulls?app_id=e1&bull_id=42382029&ring=e90c243oPyzzzqf1eKlukhlyN%2FyQw0a4&timestamp=1620590483730&uid=34238845:a17644a8665a9a838d4081cec96fee78&secret=e0b82bab64dcba4e647ad96cdb507522d2b7165bb22fe4ccb941ad577394109b\n",
    "\n",
    "6a4095a3b87a7d868e6dc39f8efdbe0f9c59f9fb85fa849143f7a8ee328bcb5a\n",
    "\n",
    "https://perekupi.com/v1.0/getotherbulls?app_id=e1&bull_id=42272844&ring=e90c243oPyzzzqf1eKlukhlyN%2FyQw0a4&timestamp=1620594250404&uid=34238845:a17644a8665a9a838d4081cec96fee78&secret=6a4095a3b87a7d868e6dc39f8efdbe0f9c59f9fb85fa849143f7a8ee328bcb5a"
   ]
  },
  {
   "cell_type": "code",
   "execution_count": null,
   "metadata": {},
   "outputs": [],
   "source": []
  }
 ],
 "metadata": {
  "kernelspec": {
   "display_name": "Python 3",
   "language": "python",
   "name": "python3"
  },
  "language_info": {
   "codemirror_mode": {
    "name": "ipython",
    "version": 3
   },
   "file_extension": ".py",
   "mimetype": "text/x-python",
   "name": "python",
   "nbconvert_exporter": "python",
   "pygments_lexer": "ipython3",
   "version": "3.8.3"
  }
 },
 "nbformat": 4,
 "nbformat_minor": 4
}
